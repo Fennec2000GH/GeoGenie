{
  "cells": [
    {
      "cell_type": "markdown",
      "metadata": {
        "id": "view-in-github",
        "colab_type": "text"
      },
      "source": [
        "<a href=\"https://colab.research.google.com/github/Fennec2000GH/GeoGenie/blob/main/NLP_for_Geography.ipynb\" target=\"_parent\"><img src=\"https://colab.research.google.com/assets/colab-badge.svg\" alt=\"Open In Colab\"/></a>"
      ]
    },
    {
      "cell_type": "markdown",
      "source": [
        "# Natural Language Processing for Geography"
      ],
      "metadata": {
        "id": "lIYdn1woOS1n"
      }
    },
    {
      "cell_type": "markdown",
      "source": [
        "## Installations"
      ],
      "metadata": {
        "id": "loFPUjtXpsy4"
      }
    },
    {
      "cell_type": "markdown",
      "source": [
        "Install Anaconda."
      ],
      "metadata": {
        "id": "JXMstMHfisya"
      }
    },
    {
      "cell_type": "code",
      "source": [
        "! wget https://repo.anaconda.com/miniconda/Miniconda3-py39_4.9.2-Linux-x86_64.sh\n",
        "! chmod +x Miniconda3-py39_4.9.2-Linux-x86_64.sh\n",
        "! bash ./Miniconda3-py39_4.9.2-Linux-x86_64.sh -b -f -p /usr/local\n",
        "import sys\n",
        "sys.path.append('/usr/local/lib/python3.9/site-packages/')"
      ],
      "metadata": {
        "colab": {
          "base_uri": "https://localhost:8080/"
        },
        "id": "R3EizJI4fuF5",
        "outputId": "eeae16ab-ed22-4c72-9dad-ed2e60be17dc"
      },
      "execution_count": null,
      "outputs": [
        {
          "output_type": "stream",
          "name": "stdout",
          "text": [
            "--2022-04-10 04:27:49--  https://repo.anaconda.com/miniconda/Miniconda3-py39_4.9.2-Linux-x86_64.sh\n",
            "Resolving repo.anaconda.com (repo.anaconda.com)... 104.16.130.3, 104.16.131.3, 2606:4700::6810:8303, ...\n",
            "Connecting to repo.anaconda.com (repo.anaconda.com)|104.16.130.3|:443... connected.\n",
            "HTTP request sent, awaiting response... 200 OK\n",
            "Length: 61451533 (59M) [application/x-sh]\n",
            "Saving to: ‘Miniconda3-py39_4.9.2-Linux-x86_64.sh’\n",
            "\n",
            "Miniconda3-py39_4.9 100%[===================>]  58.60M   106MB/s    in 0.6s    \n",
            "\n",
            "2022-04-10 04:27:50 (106 MB/s) - ‘Miniconda3-py39_4.9.2-Linux-x86_64.sh’ saved [61451533/61451533]\n",
            "\n",
            "PREFIX=/usr/local\n",
            "Unpacking payload ...\n",
            "Collecting package metadata (current_repodata.json): - \b\b\\ \b\b| \b\bdone\n",
            "Solving environment: - \b\b\\ \b\b| \b\bdone\n",
            "\n",
            "## Package Plan ##\n",
            "\n",
            "  environment location: /usr/local\n",
            "\n",
            "  added / updated specs:\n",
            "    - _libgcc_mutex==0.1=main\n",
            "    - brotlipy==0.7.0=py39h27cfd23_1003\n",
            "    - ca-certificates==2020.12.8=h06a4308_0\n",
            "    - certifi==2020.12.5=py39h06a4308_0\n",
            "    - cffi==1.14.4=py39h261ae71_0\n",
            "    - chardet==3.0.4=py39h06a4308_1003\n",
            "    - conda-package-handling==1.7.2=py39h27cfd23_1\n",
            "    - conda==4.9.2=py39h06a4308_0\n",
            "    - cryptography==3.3.1=py39h3c74f83_0\n",
            "    - idna==2.10=py_0\n",
            "    - ld_impl_linux-64==2.33.1=h53a641e_7\n",
            "    - libedit==3.1.20191231=h14c3975_1\n",
            "    - libffi==3.3=he6710b0_2\n",
            "    - libgcc-ng==9.1.0=hdf63c60_0\n",
            "    - libstdcxx-ng==9.1.0=hdf63c60_0\n",
            "    - ncurses==6.2=he6710b0_1\n",
            "    - openssl==1.1.1i=h27cfd23_0\n",
            "    - pip==20.3.1=py39h06a4308_0\n",
            "    - pycosat==0.6.3=py39h27cfd23_0\n",
            "    - pycparser==2.20=py_2\n",
            "    - pyopenssl==20.0.0=pyhd3eb1b0_1\n",
            "    - pysocks==1.7.1=py39h06a4308_0\n",
            "    - python==3.9.1=hdb3f193_2\n",
            "    - readline==8.0=h7b6447c_0\n",
            "    - requests==2.25.0=pyhd3eb1b0_0\n",
            "    - ruamel_yaml==0.15.80=py39h27cfd23_0\n",
            "    - setuptools==51.0.0=py39h06a4308_2\n",
            "    - six==1.15.0=py39h06a4308_0\n",
            "    - sqlite==3.33.0=h62c20be_0\n",
            "    - tk==8.6.10=hbc83047_0\n",
            "    - tqdm==4.54.1=pyhd3eb1b0_0\n",
            "    - tzdata==2020d=h14c3975_0\n",
            "    - urllib3==1.25.11=py_0\n",
            "    - wheel==0.36.1=pyhd3eb1b0_0\n",
            "    - xz==5.2.5=h7b6447c_0\n",
            "    - yaml==0.2.5=h7b6447c_0\n",
            "    - zlib==1.2.11=h7b6447c_3\n",
            "\n",
            "\n",
            "The following NEW packages will be INSTALLED:\n",
            "\n",
            "  _libgcc_mutex      pkgs/main/linux-64::_libgcc_mutex-0.1-main\n",
            "  brotlipy           pkgs/main/linux-64::brotlipy-0.7.0-py39h27cfd23_1003\n",
            "  ca-certificates    pkgs/main/linux-64::ca-certificates-2020.12.8-h06a4308_0\n",
            "  certifi            pkgs/main/linux-64::certifi-2020.12.5-py39h06a4308_0\n",
            "  cffi               pkgs/main/linux-64::cffi-1.14.4-py39h261ae71_0\n",
            "  chardet            pkgs/main/linux-64::chardet-3.0.4-py39h06a4308_1003\n",
            "  conda              pkgs/main/linux-64::conda-4.9.2-py39h06a4308_0\n",
            "  conda-package-han~ pkgs/main/linux-64::conda-package-handling-1.7.2-py39h27cfd23_1\n",
            "  cryptography       pkgs/main/linux-64::cryptography-3.3.1-py39h3c74f83_0\n",
            "  idna               pkgs/main/noarch::idna-2.10-py_0\n",
            "  ld_impl_linux-64   pkgs/main/linux-64::ld_impl_linux-64-2.33.1-h53a641e_7\n",
            "  libedit            pkgs/main/linux-64::libedit-3.1.20191231-h14c3975_1\n",
            "  libffi             pkgs/main/linux-64::libffi-3.3-he6710b0_2\n",
            "  libgcc-ng          pkgs/main/linux-64::libgcc-ng-9.1.0-hdf63c60_0\n",
            "  libstdcxx-ng       pkgs/main/linux-64::libstdcxx-ng-9.1.0-hdf63c60_0\n",
            "  ncurses            pkgs/main/linux-64::ncurses-6.2-he6710b0_1\n",
            "  openssl            pkgs/main/linux-64::openssl-1.1.1i-h27cfd23_0\n",
            "  pip                pkgs/main/linux-64::pip-20.3.1-py39h06a4308_0\n",
            "  pycosat            pkgs/main/linux-64::pycosat-0.6.3-py39h27cfd23_0\n",
            "  pycparser          pkgs/main/noarch::pycparser-2.20-py_2\n",
            "  pyopenssl          pkgs/main/noarch::pyopenssl-20.0.0-pyhd3eb1b0_1\n",
            "  pysocks            pkgs/main/linux-64::pysocks-1.7.1-py39h06a4308_0\n",
            "  python             pkgs/main/linux-64::python-3.9.1-hdb3f193_2\n",
            "  readline           pkgs/main/linux-64::readline-8.0-h7b6447c_0\n",
            "  requests           pkgs/main/noarch::requests-2.25.0-pyhd3eb1b0_0\n",
            "  ruamel_yaml        pkgs/main/linux-64::ruamel_yaml-0.15.80-py39h27cfd23_0\n",
            "  setuptools         pkgs/main/linux-64::setuptools-51.0.0-py39h06a4308_2\n",
            "  six                pkgs/main/linux-64::six-1.15.0-py39h06a4308_0\n",
            "  sqlite             pkgs/main/linux-64::sqlite-3.33.0-h62c20be_0\n",
            "  tk                 pkgs/main/linux-64::tk-8.6.10-hbc83047_0\n",
            "  tqdm               pkgs/main/noarch::tqdm-4.54.1-pyhd3eb1b0_0\n",
            "  tzdata             pkgs/main/noarch::tzdata-2020d-h14c3975_0\n",
            "  urllib3            pkgs/main/noarch::urllib3-1.25.11-py_0\n",
            "  wheel              pkgs/main/noarch::wheel-0.36.1-pyhd3eb1b0_0\n",
            "  xz                 pkgs/main/linux-64::xz-5.2.5-h7b6447c_0\n",
            "  yaml               pkgs/main/linux-64::yaml-0.2.5-h7b6447c_0\n",
            "  zlib               pkgs/main/linux-64::zlib-1.2.11-h7b6447c_3\n",
            "\n",
            "\n",
            "Preparing transaction: - \b\b\\ \b\b| \b\b/ \b\bdone\n",
            "Executing transaction: \\ \b\b| \b\b/ \b\b- \b\b\\ \b\b| \b\b/ \b\b- \b\b\\ \b\b| \b\b/ \b\b- \b\b\\ \b\b| \b\b/ \b\b- \b\b\\ \b\b| \b\bdone\n",
            "installation finished.\n",
            "WARNING:\n",
            "    You currently have a PYTHONPATH environment variable set. This may cause\n",
            "    unexpected behavior when running the Python interpreter in Miniconda3.\n",
            "    For best results, please verify that your PYTHONPATH only points to\n",
            "    directories of packages that are compatible with the Python interpreter\n",
            "    in Miniconda3: /usr/local\n"
          ]
        }
      ]
    },
    {
      "cell_type": "code",
      "source": [
        "%%shell\n",
        "ls /usr/local/\n",
        "export PYTHONPATH=/usr/local/\n",
        "echo $PYTHONPATH"
      ],
      "metadata": {
        "colab": {
          "base_uri": "https://localhost:8080/"
        },
        "id": "4zA5LOJ1viFn",
        "outputId": "3bfe14a9-a469-4e86-b0d0-d36b2bbc65c1"
      },
      "execution_count": null,
      "outputs": [
        {
          "output_type": "stream",
          "name": "stdout",
          "text": [
            "bin\t\t cuda-11\t     include\t  share\n",
            "compiler_compat  cuda-11.0\t     lib\t  shell\n",
            "condabin\t cuda-11.1\t     LICENSE.txt  src\n",
            "conda-meta\t envs\t\t     licensing\t  ssl\n",
            "cuda\t\t etc\t\t     man\t  x86_64-conda_cos6-linux-gnu\n",
            "cuda-10.0\t games\t\t     pkgs\t  xgboost\n",
            "cuda-10.1\t _gcs_config_ops.so  sbin\n",
            "/usr/local/\n"
          ]
        },
        {
          "output_type": "execute_result",
          "data": {
            "text/plain": [
              ""
            ]
          },
          "metadata": {},
          "execution_count": 63
        }
      ]
    },
    {
      "cell_type": "markdown",
      "source": [
        "Install Python packages for development."
      ],
      "metadata": {
        "id": "jtCQPW-b2p2B"
      }
    },
    {
      "cell_type": "code",
      "source": [
        "%%shell\n",
        "pip install h2o"
      ],
      "metadata": {
        "id": "loNFZFTZqsTd"
      },
      "execution_count": null,
      "outputs": []
    },
    {
      "cell_type": "markdown",
      "source": [
        "## Load Dataset"
      ],
      "metadata": {
        "id": "FAYHxqm4q3ek"
      }
    },
    {
      "cell_type": "code",
      "source": [
        ""
      ],
      "metadata": {
        "colab": {
          "base_uri": "https://localhost:8080/"
        },
        "id": "25anohlxq3nV",
        "outputId": "2ce82963-fc3d-4999-974d-1ce4e219785f"
      },
      "execution_count": 9,
      "outputs": [
        {
          "output_type": "stream",
          "name": "stdout",
          "text": [
            "[2022-04-13T02:27:07.442Z] \u001b[38;2;0;143;191minfo  \u001b[0mWrote default config file to ~/.config/code-server/config.yaml\u001b[0m\n",
            "[2022-04-13T02:27:07.944Z] info  code-server 4.2.0 693b1fac04524bb0e0cfbb93afc85702263329bb\n",
            "[2022-04-13T02:27:07.952Z] info  Using user-data-dir ~/.local/share/code-server\n",
            "[2022-04-13T02:27:07.961Z] error listen EADDRINUSE: address already in use 127.0.0.1:8080\n"
          ]
        }
      ]
    },
    {
      "cell_type": "code",
      "source": [
        ""
      ],
      "metadata": {
        "id": "QX-XmUGsq3s0"
      },
      "execution_count": null,
      "outputs": []
    },
    {
      "cell_type": "code",
      "source": [
        ""
      ],
      "metadata": {
        "id": "vsCZk2Dyq3zC"
      },
      "execution_count": null,
      "outputs": []
    },
    {
      "cell_type": "code",
      "source": [
        ""
      ],
      "metadata": {
        "id": "ca0jJvx1q33w"
      },
      "execution_count": null,
      "outputs": []
    }
  ],
  "metadata": {
    "colab": {
      "name": "NLP for Geography",
      "provenance": [],
      "collapsed_sections": [],
      "include_colab_link": true
    },
    "kernelspec": {
      "display_name": "Python 3",
      "name": "python3"
    },
    "accelerator": "TPU"
  },
  "nbformat": 4,
  "nbformat_minor": 0
}